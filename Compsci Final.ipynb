{
 "cells": [
  {
   "cell_type": "code",
   "execution_count": 32,
   "metadata": {
    "collapsed": false
   },
   "outputs": [],
   "source": [
    "from PIL import Image, ImageDraw"
   ]
  },
  {
   "cell_type": "code",
   "execution_count": 39,
   "metadata": {
    "collapsed": false
   },
   "outputs": [],
   "source": [
    "img = Image.open('Data/20161104_173018.jpg')\n",
    "if type(img) == None:\n",
    "    print(\"ERROR! IMAGE NOT FOUND\")"
   ]
  },
  {
   "cell_type": "code",
   "execution_count": 40,
   "metadata": {
    "collapsed": false
   },
   "outputs": [],
   "source": [
    "def findBall(r, g, b, tol, image):\n",
    "    rLower = r-tol\n",
    "    rUpper = r+tol\n",
    "    gLower = g-tol\n",
    "    gUpper = g+tol\n",
    "    bLower = b-tol\n",
    "    bUpper = b+tol\n",
    "    xBall = []\n",
    "    yBall = []\n",
    "    width, height = image.size\n",
    "    for yCoord in range(0, height, 3):\n",
    "        for xCoord in range(0, width, 3):\n",
    "            r, g, b = image.getpixel((xCoord, yCoord))\n",
    "            #Please note imread is in BGR!\n",
    "            if b > bLower and b < bUpper and \\\n",
    "                g > gLower and g < gUpper and \\\n",
    "                r > rLower and r < rUpper:\n",
    "                    xBall.append(xCoord)\n",
    "                    yBall.append(yCoord)\n",
    "#         if yCoord/image.shape[0] % .1 < .001:\n",
    "#             print(round(yCoord/image.shape[0]*100), '%')\n",
    "    return (sum(xBall)/len(xBall), sum(yBall)/len(yBall))\n",
    "                    "
   ]
  },
  {
   "cell_type": "code",
   "execution_count": 45,
   "metadata": {
    "collapsed": false
   },
   "outputs": [],
   "source": [
    "coords = findBall(0, 0, 255, 10, img)\n",
    "draw = ImageDraw.Draw(img)\n",
    "draw.ellipse((coords[0]-20, coords[1]-20, coords[0]+20, coords[1]+20), fill = 'blue', outline ='blue')\n",
    "img.show()"
   ]
  },
  {
   "cell_type": "code",
   "execution_count": 46,
   "metadata": {
    "collapsed": false
   },
   "outputs": [
    {
     "name": "stdout",
     "output_type": "stream",
     "text": [
      "(2609.04, 1562.04)\n"
     ]
    }
   ],
   "source": [
    "print(findBall(0, 0, 255, 10, img))"
   ]
  },
  {
   "cell_type": "code",
   "execution_count": null,
   "metadata": {
    "collapsed": true
   },
   "outputs": [],
   "source": [
    "(2609.04, 1562.04)"
   ]
  }
 ],
 "metadata": {
  "anaconda-cloud": {},
  "kernelspec": {
   "display_name": "Python [Root]",
   "language": "python",
   "name": "Python [Root]"
  },
  "language_info": {
   "codemirror_mode": {
    "name": "ipython",
    "version": 3
   },
   "file_extension": ".py",
   "mimetype": "text/x-python",
   "name": "python",
   "nbconvert_exporter": "python",
   "pygments_lexer": "ipython3",
   "version": "3.5.1"
  }
 },
 "nbformat": 4,
 "nbformat_minor": 0
}
